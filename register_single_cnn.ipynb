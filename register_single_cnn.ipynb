{
 "cells": [
  {
   "cell_type": "code",
   "execution_count": 1,
   "metadata": {},
   "outputs": [],
   "source": [
    "#!pip3 install albumentations"
   ]
  },
  {
   "cell_type": "code",
   "execution_count": 2,
   "metadata": {},
   "outputs": [],
   "source": [
    "#!pip3 install qtconsole\n",
    "%qtconsole #for editing variables on the fly without creating cells!! isnt that awesome?"
   ]
  },
  {
   "cell_type": "code",
   "execution_count": 3,
   "metadata": {},
   "outputs": [
    {
     "name": "stderr",
     "output_type": "stream",
     "text": [
      "Using TensorFlow backend.\n"
     ]
    }
   ],
   "source": [
    "from keras.layers import Input\n",
    "from keras.models import Model,load_model,save_model\n",
    "from keras.layers import Activation,BatchNormalization\n",
    "from keras.layers import MaxPool2D\n",
    "from keras.layers import Flatten\n",
    "from keras.layers import Conv2D\n",
    "from keras.layers import Dense\n",
    "\n",
    "import cv2\n",
    "import numpy as np\n",
    "import random\n",
    "import matplotlib.pyplot as plt\n",
    "\n",
    "import albumentations as A"
   ]
  },
  {
   "cell_type": "code",
   "execution_count": 4,
   "metadata": {},
   "outputs": [],
   "source": [
    "#read template image\n",
    "img = cv2.imread(\"template.jpg\")\n",
    "rows, cols, ch = img.shape\n",
    "\n",
    "width=128\n",
    "height=128\n",
    "dim = (width, height)\n",
    "# resize image\n",
    "img = cv2.resize(img, dim, interpolation = cv2.INTER_AREA) "
   ]
  },
  {
   "cell_type": "code",
   "execution_count": 5,
   "metadata": {},
   "outputs": [],
   "source": [
    "def getdata(img,count,disp=False):\n",
    "    #randomly transform the template image to generate sample data\n",
    "    #need to add a new function that generates data by registering real -\n",
    "    #input images with template and thus generating transform matrix\n",
    "    xtrain=[]\n",
    "    ytrain=[]\n",
    "    d=20\n",
    "    \n",
    "    pts1 = np.float32([[0, 0], [width, 0], [width, height]])\n",
    "\n",
    "    '''\n",
    "    cv2.circle(img, tuple(pts1[0]), 5, (0, 0, 255), -1)\n",
    "    cv2.circle(img, tuple(pts1[1]), 5, (0, 0, 255), -1)\n",
    "    cv2.circle(img, tuple(pts1[2]), 5, (0, 0, 255), -1)\n",
    "    cv2.imshow(\"Image\", img)\n",
    "    '''\n",
    "    aug = A.Compose([\n",
    "    A.RandomBrightnessContrast(p=.5),    \n",
    "    A.RandomGamma(p=.5),    \n",
    "    #A.CLAHE(p=1), \n",
    "    A.HueSaturationValue(hue_shift_limit=3, sat_shift_limit=50, val_shift_limit=50, p=.5),\n",
    "    \n",
    "    ], p=.5)\n",
    "    \n",
    "    for i in range(count):\n",
    "        \n",
    "\n",
    "        d0 = random.sample(range(-d, d), 2)\n",
    "        d1 = random.sample(range(-d, d), 2)\n",
    "        d2 = random.sample(range(-d, d), 2)\n",
    "        #import pdb;pdb.set_trace()\n",
    "\n",
    "        pts2 = np.float32([pts1[0]+d0, pts1[1]+d1, pts1[2]+d2])\n",
    "\n",
    "        matrix = cv2.getAffineTransform(pts1, pts2)\n",
    "        result = cv2.warpAffine(img, matrix, (width, height))\n",
    "        #augmentations\n",
    "        result = aug(image=result)['image']\n",
    "        \n",
    "        #import pdb;pdb.set_trace()\n",
    "        matrix = cv2.invertAffineTransform(matrix)\n",
    "        matrix = matrix.flatten()\n",
    "        \n",
    "        xtrain.append(result)\n",
    "        ytrain.append(matrix)\n",
    "        \n",
    "        if disp==True:\n",
    "            cv2.imshow(\"Affine transformation\", result)\n",
    "            cv2.waitKey(100)\n",
    "    cv2.destroyAllWindows()\n",
    "    xtrain = np.array(xtrain, dtype=np.float32)\n",
    "    ytrain = np.array(ytrain, dtype=np.float32)\n",
    "    return(xtrain/255.0, ytrain)"
   ]
  },
  {
   "cell_type": "code",
   "execution_count": 6,
   "metadata": {},
   "outputs": [],
   "source": [
    "batch_size = 64"
   ]
  },
  {
   "cell_type": "code",
   "execution_count": 7,
   "metadata": {},
   "outputs": [],
   "source": [
    "xtrain, ytrain = getdata(img,batch_size*1, disp=True)"
   ]
  },
  {
   "cell_type": "code",
   "execution_count": 8,
   "metadata": {},
   "outputs": [],
   "source": [
    "xval, yval = getdata(img,batch_size*3, disp=True)"
   ]
  },
  {
   "cell_type": "code",
   "execution_count": 9,
   "metadata": {},
   "outputs": [],
   "source": [
    "#xtest, ytest = getdata(img,batch_size*3)"
   ]
  },
  {
   "cell_type": "code",
   "execution_count": 10,
   "metadata": {},
   "outputs": [
    {
     "data": {
      "text/plain": [
       "(64, 128, 128, 3)"
      ]
     },
     "execution_count": 10,
     "metadata": {},
     "output_type": "execute_result"
    }
   ],
   "source": [
    "xtrain.shape"
   ]
  },
  {
   "cell_type": "code",
   "execution_count": 11,
   "metadata": {},
   "outputs": [
    {
     "data": {
      "text/plain": [
       "(64, 6)"
      ]
     },
     "execution_count": 11,
     "metadata": {},
     "output_type": "execute_result"
    }
   ],
   "source": [
    "ytrain.shape"
   ]
  },
  {
   "cell_type": "code",
   "execution_count": 12,
   "metadata": {},
   "outputs": [],
   "source": [
    "#from utils1 import get_initial_weights\n",
    "#from layers import BilinearInterpolation\n",
    "\n",
    "def localizer(input_shape=(width, height, 3), sampling_size=(30, 30), num_classes=10):\n",
    "    image = Input(shape=input_shape)\n",
    "    locnet = Conv2D(20, (5, 5))(image)\n",
    "    locnet = BatchNormalization()(locnet)\n",
    "    locnet = MaxPool2D(pool_size=(2, 2))(locnet)\n",
    "    locnet = Activation('relu')(locnet)\n",
    "    locnet = Conv2D(20, (5, 5))(locnet)\n",
    "    locnet = BatchNormalization()(locnet)\n",
    "    locnet = MaxPool2D(pool_size=(2, 2))(locnet)\n",
    "    locnet = Activation('relu')(locnet)\n",
    "    locnet = Conv2D(40, (5, 5))(locnet)\n",
    "    locnet = BatchNormalization()(locnet)\n",
    "    locnet = Activation('relu')(locnet)\n",
    "    locnet = Flatten()(locnet)\n",
    "    locnet = Dense(50)(locnet)\n",
    "    locnet = Activation('relu')(locnet)\n",
    "    #weights = get_initial_weights(50)\n",
    "    theta = Dense(6)(locnet)\n",
    "    return Model(inputs=image, outputs=theta)\n",
    "\n",
    "    "
   ]
  },
  {
   "cell_type": "code",
   "execution_count": 13,
   "metadata": {
    "scrolled": true
   },
   "outputs": [
    {
     "name": "stdout",
     "output_type": "stream",
     "text": [
      "_________________________________________________________________\n",
      "Layer (type)                 Output Shape              Param #   \n",
      "=================================================================\n",
      "input_2 (InputLayer)         (None, 128, 128, 3)       0         \n",
      "_________________________________________________________________\n",
      "conv2d_4 (Conv2D)            (None, 124, 124, 20)      1520      \n",
      "_________________________________________________________________\n",
      "batch_normalization_4 (Batch (None, 124, 124, 20)      80        \n",
      "_________________________________________________________________\n",
      "max_pooling2d_3 (MaxPooling2 (None, 62, 62, 20)        0         \n",
      "_________________________________________________________________\n",
      "activation_5 (Activation)    (None, 62, 62, 20)        0         \n",
      "_________________________________________________________________\n",
      "conv2d_5 (Conv2D)            (None, 58, 58, 20)        10020     \n",
      "_________________________________________________________________\n",
      "batch_normalization_5 (Batch (None, 58, 58, 20)        80        \n",
      "_________________________________________________________________\n",
      "max_pooling2d_4 (MaxPooling2 (None, 29, 29, 20)        0         \n",
      "_________________________________________________________________\n",
      "activation_6 (Activation)    (None, 29, 29, 20)        0         \n",
      "_________________________________________________________________\n",
      "conv2d_6 (Conv2D)            (None, 25, 25, 40)        20040     \n",
      "_________________________________________________________________\n",
      "batch_normalization_6 (Batch (None, 25, 25, 40)        160       \n",
      "_________________________________________________________________\n",
      "activation_7 (Activation)    (None, 25, 25, 40)        0         \n",
      "_________________________________________________________________\n",
      "flatten_2 (Flatten)          (None, 25000)             0         \n",
      "_________________________________________________________________\n",
      "dense_3 (Dense)              (None, 50)                1250050   \n",
      "_________________________________________________________________\n",
      "activation_8 (Activation)    (None, 50)                0         \n",
      "_________________________________________________________________\n",
      "dense_4 (Dense)              (None, 6)                 306       \n",
      "=================================================================\n",
      "Total params: 1,282,256\n",
      "Trainable params: 1,282,096\n",
      "Non-trainable params: 160\n",
      "_________________________________________________________________\n"
     ]
    }
   ],
   "source": [
    "if True:\n",
    "    model = load_model('weight.h5')\n",
    "else:\n",
    "    model = localizer()\n",
    "    model.compile(loss='mean_squared_error', optimizer='adam')\n",
    "model.summary()"
   ]
  },
  {
   "cell_type": "code",
   "execution_count": 14,
   "metadata": {},
   "outputs": [],
   "source": [
    "def transform(img,matrix):\n",
    "    #assuming input img is normalized, else remove 255s\n",
    "    rows, cols, ch = img.shape\n",
    "    #import pdb;pdb.set_trace()\n",
    "    img = img*255\n",
    "    img= img.astype(np.uint8)\n",
    "    theta = matrix.reshape(2,3)\n",
    "    img2 = cv2.warpAffine(img, theta, (cols, rows))\n",
    "    img2= img2.astype(np.float32)\n",
    "    img2 = img2/255.0\n",
    "    return img2"
   ]
  },
  {
   "cell_type": "code",
   "execution_count": 15,
   "metadata": {},
   "outputs": [],
   "source": [
    "def transform_plot(x_batch,y_batch, matrices):\n",
    "    fig = plt.figure()\n",
    "    plt.clf()\n",
    "    for image_arg in range(3):\n",
    "        #import pdb;pdb.set_trace()\n",
    "        \n",
    "        img = x_batch[image_arg]\n",
    "        M2 = matrices[image_arg]\n",
    "        M=y_batch[image_arg]\n",
    "        \n",
    "        img2 = transform(img,M2)\n",
    "        \n",
    "        print('    M:',[ '%.2f' % elem for elem in M ])\n",
    "        print('   M2:',[ '%.2f' % elem for elem in M2 ])\n",
    "        plt.subplot(3, 2, image_arg*2 + 1)\n",
    "        plt.imshow(img)\n",
    "        plt.axis('off')\n",
    "        plt.subplot(3, 2, image_arg*2 + 2)\n",
    "        plt.imshow(img2)\n",
    "        plt.axis('off')\n",
    "    fig.canvas.draw()\n",
    "    plt.show()"
   ]
  },
  {
   "cell_type": "code",
   "execution_count": 16,
   "metadata": {
    "scrolled": true
   },
   "outputs": [
    {
     "name": "stdout",
     "output_type": "stream",
     "text": [
      "Epoch: 0 / 10 loss:  0.0130008925\n",
      "\n",
      "Epoch: 1 / 10 loss:  0.015392156\n",
      "\n",
      "Epoch: 2 / 10 loss:  0.017644245\n",
      "\n",
      "Epoch: 3 / 10 loss:  0.022504874\n",
      "\n",
      "Epoch: 4 / 10 loss:  0.009467186\n",
      "\n",
      "Epoch: 5 / 10 loss:  0.015685622\n",
      "\n",
      "Epoch: 6 / 10 loss:  0.032333788\n",
      "\n",
      "Epoch: 7 / 10 loss:  0.031639524\n",
      "\n",
      "Epoch: 8 / 10 loss:  0.02885966\n",
      "\n",
      "Epoch: 9 / 10 loss:  0.016590407\n",
      "\n",
      "    M: ['1.00', '-0.27', '15.71', '-0.03', '1.13', '0.71']\n",
      "   M2: ['1.02', '-0.25', '15.83', '-0.04', '1.13', '0.44']\n",
      "    M: ['0.96', '0.01', '-9.59', '0.15', '0.99', '-4.50']\n",
      "   M2: ['0.97', '0.00', '-9.72', '0.15', '0.96', '-4.86']\n",
      "    M: ['0.83', '0.01', '8.18', '0.13', '0.99', '-11.48']\n",
      "   M2: ['0.89', '0.02', '8.37', '0.11', '1.00', '-11.71']\n"
     ]
    },
    {
     "data": {
      "image/png": "[encoded data removed]",
      "text/plain": [
       "<Figure size 432x288 with 6 Axes>"
      ]
     },
     "metadata": {
      "needs_background": "light"
     },
     "output_type": "display_data"
    }
   ],
   "source": [
    "num_epochs = 10\n",
    "loss=[]\n",
    "#val_score1=20\n",
    "val_score1 =np.load('val_score1.npy')\n",
    "for epoch_arg in range(num_epochs):\n",
    "    xtrain, ytrain = getdata(img,batch_size*16)\n",
    "    for batch_arg in range(xtrain.shape[0]//batch_size):\n",
    "        arg_0 = batch_arg * batch_size\n",
    "        arg_1 = (batch_arg + 1) * batch_size\n",
    "        x_batch, y_batch = xtrain[arg_0:arg_1], ytrain[arg_0:arg_1]\n",
    "        \n",
    "        #import pdb;pdb.set_trace()\n",
    "        loss = model.train_on_batch(x_batch, y_batch)\n",
    "    print('Epoch:',epoch_arg, '/',num_epochs, 'loss: ',loss)\n",
    "    \n",
    "    if (epoch_arg % 10 == 0) and (epoch_arg>0):\n",
    "        val_score = model.evaluate(xval, yval, verbose=1)\n",
    "        print('validation loss :', val_score)\n",
    "        if val_score<val_score1:\n",
    "            print('validation loss reduced, saving weights',val_score1, val_score)\n",
    "            val_score1=val_score\n",
    "            np.save('val_score1.npy',val_score1)\n",
    "            model.save('weight.h5')\n",
    "        \n",
    "            matrices = model.predict_on_batch(x_batch)\n",
    "            transform_plot(x_batch,y_batch, matrices)\n",
    "            print('-' * 40)\n",
    "    print()\n",
    "\n",
    "\n",
    "model = load_model('weight.h5')\n",
    "matrices = model.predict_on_batch(xval)\n",
    "transform_plot(xval,yval, matrices)"
   ]
  },
  {
   "cell_type": "code",
   "execution_count": null,
   "metadata": {},
   "outputs": [],
   "source": []
  },
  {
   "cell_type": "code",
   "execution_count": null,
   "metadata": {},
   "outputs": [],
   "source": []
  },
  {
   "cell_type": "code",
   "execution_count": null,
   "metadata": {},
   "outputs": [],
   "source": []
  }
 ],
 "metadata": {
  "kernelspec": {
   "display_name": "Python 3",
   "language": "python",
   "name": "python3"
  },
  "language_info": {
   "codemirror_mode": {
    "name": "ipython",
    "version": 3
   },
   "file_extension": ".py",
   "mimetype": "text/x-python",
   "name": "python",
   "nbconvert_exporter": "python",
   "pygments_lexer": "ipython3",
   "version": "3.5.2"
  }
 },
 "nbformat": 4,
 "nbformat_minor": 2
}
